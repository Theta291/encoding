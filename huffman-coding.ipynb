{
 "cells": [
  {
   "cell_type": "code",
   "execution_count": null,
   "metadata": {
    "scrolled": true
   },
   "outputs": [],
   "source": [
    "from funcs_for_huff_notebook import *"
   ]
  },
  {
   "cell_type": "markdown",
   "metadata": {},
   "source": [
    "I'm importing a few functions that help me show what's going on. These are the functions:\n",
    "1. count_chars: This counts each character in a string and creates a dictionary storing the counts.\n",
    "2. display_tree: This displays a binary tree.\n",
    "3. display_decode: This shows the process of decoding a Huffman coded string."
   ]
  },
  {
   "cell_type": "markdown",
   "metadata": {},
   "source": [
    "# Huffman coding\n",
    "\n",
    "Huffman coding is an algorithm for encoding a string. It is the most efficient method that encodes each symbol separately. It creates a binary tree that encodes each character as a binary string.\n",
    "\n",
    "To get started, type some words below:"
   ]
  },
  {
   "cell_type": "code",
   "execution_count": null,
   "metadata": {
    "scrolled": true
   },
   "outputs": [],
   "source": [
    "some_string = input('Type some words: ')"
   ]
  },
  {
   "cell_type": "markdown",
   "metadata": {},
   "source": [
    "Currently, this string is encoded in ascii. This means that each character is written using 1 byte, which is 8 bits. Therefore the number of bits used to encode this string is:"
   ]
  },
  {
   "cell_type": "code",
   "execution_count": null,
   "metadata": {
    "scrolled": true
   },
   "outputs": [],
   "source": [
    "len(some_string) * 8"
   ]
  },
  {
   "cell_type": "markdown",
   "metadata": {},
   "source": [
    "With Huffman coding, we can create a binary string that encodes this string in fewer bits.\n",
    "\n",
    "The first step to encoding this string is to count how many times each character appears in it."
   ]
  },
  {
   "cell_type": "code",
   "execution_count": null,
   "metadata": {
    "scrolled": true
   },
   "outputs": [],
   "source": [
    "count_dict = count_chars(some_string)\n",
    "\n",
    "count_dict"
   ]
  },
  {
   "cell_type": "markdown",
   "metadata": {},
   "source": [
    "Using this count, we create a very specific binary tree. I'll be storing the tree using a list of tuples. Each tuple will correspond to a node, and will have four values: a string as a key, the total number of times a character in the key appears in the input string, and the position of the left child in the list. Because of how we build our tree, every parent node has a left and a right child, and the position of the right child is always one more than the position of the left child."
   ]
  },
  {
   "cell_type": "markdown",
   "metadata": {},
   "source": [
    "The first nodes we put in our tree are the characters. I add them sorted by frequency, because this makes other steps in the algorithm easier."
   ]
  },
  {
   "cell_type": "code",
   "execution_count": null,
   "metadata": {
    "scrolled": true
   },
   "outputs": [],
   "source": [
    "sorted_KV_pairs = sorted(count_dict.items(), key=lambda x:x[1])\n",
    "huff_tree = [(key, value, None) for key, value in sorted_KV_pairs]\n",
    "\n",
    "display_tree(huff_tree)"
   ]
  },
  {
   "cell_type": "markdown",
   "metadata": {},
   "source": [
    "Our \"tree\" isn't much to look at right now, but we'll fix that.\n",
    "\n",
    "Now, we create a new node that is the parent of the two nodes with lowest values. The key to this node contains both keys of the child nodes, so the total number of times a character from this key shows up in the input string is the sum of the times each character from the child nodes shows up."
   ]
  },
  {
   "cell_type": "code",
   "execution_count": null,
   "metadata": {
    "scrolled": true
   },
   "outputs": [],
   "source": [
    "lowest_node, second_lowest_node = huff_tree[0:2]\n",
    "rarest_character, rarest_appearances  = lowest_node[0:2]\n",
    "second_rarest_character, second_rarest_appearances = second_lowest_node[0:2]\n",
    "new_node = (rarest_character + second_rarest_character, rarest_appearances + second_rarest_appearances, 0)"
   ]
  },
  {
   "cell_type": "markdown",
   "metadata": {},
   "source": [
    "We insert this node in a way that keeps the nodes sorted by frequency in the list."
   ]
  },
  {
   "cell_type": "code",
   "execution_count": null,
   "metadata": {
    "scrolled": true
   },
   "outputs": [],
   "source": [
    "j = 2\n",
    "while j < len(huff_tree) and huff_tree[j][1] < new_node[1]:\n",
    "    j += 1\n",
    "huff_tree.insert(j, new_node)\n",
    "\n",
    "display_tree(huff_tree, showchange=True)"
   ]
  },
  {
   "cell_type": "markdown",
   "metadata": {},
   "source": [
    "Now we have a sort of mini-tree going on.\n",
    "\n",
    "If we continue to repeat this process, we'll keep adding new parent nodes to our tree. We'll even add parent nodes to nodes that are already parent nodes if they have a low enough frequency. Eventually, we'll add a root node whose key contains all the characters we have in our string, and our tree will be complete."
   ]
  },
  {
   "cell_type": "code",
   "execution_count": null,
   "metadata": {
    "scrolled": true
   },
   "outputs": [],
   "source": [
    "i = 2\n",
    "while i+1 < len(huff_tree):\n",
    "    lowest_node, second_lowest_node = huff_tree[i:i+2]\n",
    "    total_frequency = lowest_node[1] + second_lowest_node[1]\n",
    "    new_node = (lowest_node[0] + second_lowest_node[0], total_frequency, i)\n",
    "    \n",
    "    i += 2\n",
    "    \n",
    "    j = i\n",
    "    while j < len(huff_tree) and huff_tree[j][1] < total_frequency:\n",
    "        j += 1\n",
    "    huff_tree.insert(j, new_node)\n",
    "    display_tree(huff_tree, showchange=True)"
   ]
  },
  {
   "cell_type": "markdown",
   "metadata": {},
   "source": [
    "Now we have a complete binary tree. To get the binary encodings for each character, we trace the path from the root to the tree, using a string to keep track of the path. We write a '0' to the string if we go to the left child, and we write a '1' for the right child."
   ]
  },
  {
   "cell_type": "markdown",
   "metadata": {},
   "source": [
    "I do this using a breadth-first recursion, and I store the binary strings in a dictionary."
   ]
  },
  {
   "cell_type": "code",
   "execution_count": null,
   "metadata": {
    "scrolled": true
   },
   "outputs": [],
   "source": [
    "def get_binary_strings(tree, encoding_dict, current_node, current_string):\n",
    "    current_key = current_node[0]\n",
    "    if len(current_key) == 1:\n",
    "        encoding_dict[current_key] = current_string\n",
    "    else:\n",
    "        left_child = tree[current_node[2]]\n",
    "        get_binary_strings(tree, encoding_dict, left_child, current_string + '0')\n",
    "        \n",
    "        right_child = tree[current_node[2]+1]\n",
    "        get_binary_strings(tree, encoding_dict, right_child, current_string + '1')"
   ]
  },
  {
   "cell_type": "code",
   "execution_count": null,
   "metadata": {
    "scrolled": true
   },
   "outputs": [],
   "source": [
    "encoding_dict = {}\n",
    "root = huff_tree[-1]\n",
    "get_binary_strings(huff_tree, encoding_dict, root, '')\n",
    "\n",
    "encoding_dict"
   ]
  },
  {
   "cell_type": "markdown",
   "metadata": {},
   "source": [
    "To get the binary encoding for our string, we simply replace each character in the string with its binary encoding."
   ]
  },
  {
   "cell_type": "code",
   "execution_count": null,
   "metadata": {
    "scrolled": true
   },
   "outputs": [],
   "source": [
    "encoded_string = ''.join(encoding_dict[char] for char in some_string)"
   ]
  },
  {
   "cell_type": "markdown",
   "metadata": {},
   "source": [
    "If we stored the encoded string as binary, it would now take this many bits:"
   ]
  },
  {
   "cell_type": "code",
   "execution_count": null,
   "metadata": {
    "scrolled": true
   },
   "outputs": [],
   "source": [
    "len(encoded_string)"
   ]
  },
  {
   "cell_type": "markdown",
   "metadata": {},
   "source": [
    "Which is less than the number of bits the ascii used.\n",
    "\n",
    "However, our code is useless without a decoder. To decode the binary, we start at the root of our tree and let each bit of our binary encoding tell us where to go. If the next bit is 0, we go left, and if the next bit is 1 we go right. If we reach a leaf node, we write down its key to another string, go back to the root, and continue. Once we're done, we should have the original string. Here's a demonstration of the process at work:"
   ]
  },
  {
   "cell_type": "code",
   "execution_count": null,
   "metadata": {},
   "outputs": [],
   "source": [
    "display_decode(huff_tree, encoded_string)"
   ]
  },
  {
   "cell_type": "markdown",
   "metadata": {},
   "source": [
    "Here's the process written out in code:"
   ]
  },
  {
   "cell_type": "code",
   "execution_count": null,
   "metadata": {
    "scrolled": true
   },
   "outputs": [],
   "source": [
    "def decode(encoded_string, tree):\n",
    "    decoded_string_list = []\n",
    "    current_node = root\n",
    "    \n",
    "    for bit in encoded_string:\n",
    "        if bit == '0':\n",
    "            left_child_position = current_node[2]\n",
    "            current_node = tree[left_child_position]\n",
    "        elif bit == '1':\n",
    "            right_child_position = current_node[2]+1\n",
    "            current_node = tree[right_child_position]\n",
    "        key = current_node[0]\n",
    "        if len(key) == 1:\n",
    "            decoded_string_list.append(key)\n",
    "            current_node = root\n",
    "        \n",
    "    decoded_string = ''.join(decoded_string_list)\n",
    "    return decoded_string"
   ]
  },
  {
   "cell_type": "code",
   "execution_count": null,
   "metadata": {
    "scrolled": true
   },
   "outputs": [],
   "source": [
    "decode(encoded_string, huff_tree)"
   ]
  },
  {
   "cell_type": "markdown",
   "metadata": {},
   "source": [
    "So it seems our encoding really does work! Here are some good next steps for a reader who has further interest in this:\n",
    "\n",
    "1. Reimplement the \"tree list\" that we were using to keep track of the least used chars into a minheap using python's heapq module.\n",
    "2. Implement HuffTree as a class\n",
    "3. Look at a proof for why huffman coding is optimal (under certain restrictions)."
   ]
  },
  {
   "cell_type": "code",
   "execution_count": null,
   "metadata": {
    "scrolled": true
   },
   "outputs": [],
   "source": []
  }
 ],
 "metadata": {
  "kernelspec": {
   "display_name": "Python 3 (ipykernel)",
   "language": "python",
   "name": "python3"
  },
  "language_info": {
   "codemirror_mode": {
    "name": "ipython",
    "version": 3
   },
   "file_extension": ".py",
   "mimetype": "text/x-python",
   "name": "python",
   "nbconvert_exporter": "python",
   "pygments_lexer": "ipython3",
   "version": "3.7.12"
  }
 },
 "nbformat": 4,
 "nbformat_minor": 4
}
